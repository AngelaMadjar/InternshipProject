{
 "cells": [
  {
   "cell_type": "markdown",
   "metadata": {},
   "source": [
    "# Artists dataset"
   ]
  },
  {
   "cell_type": "markdown",
   "metadata": {},
   "source": [
    "This is a short notebook regarding the **artists.csv** dataset from the Spotify Dataset on Kaggle.\n",
    "It is consisted of only 5 columns (out of which one is irrelevant - id) and 1 104 349 rows.\n",
    "Unlike the other datasets, for this one I only visualized the data because of the large number of missing values."
   ]
  },
  {
   "cell_type": "code",
   "execution_count": 21,
   "metadata": {},
   "outputs": [],
   "source": [
    "import pandas as pd\n",
    "import numpy as np\n",
    "import matplotlib.pyplot as plt\n",
    "import seaborn as sns\n",
    "from IPython import get_ipython\n",
    "\n",
    "import warnings\n",
    "warnings.simplefilter(\"ignore\")\n",
    "\n",
    "sns.set_style(\"whitegrid\")"
   ]
  },
  {
   "cell_type": "markdown",
   "metadata": {},
   "source": [
    "Getting familiar with the dataset"
   ]
  },
  {
   "cell_type": "code",
   "execution_count": 12,
   "metadata": {},
   "outputs": [],
   "source": [
    "df = pd.read_csv(\"artists.csv\")"
   ]
  },
  {
   "cell_type": "code",
   "execution_count": 8,
   "metadata": {},
   "outputs": [
    {
     "data": {
      "text/html": [
       "<div>\n",
       "<style scoped>\n",
       "    .dataframe tbody tr th:only-of-type {\n",
       "        vertical-align: middle;\n",
       "    }\n",
       "\n",
       "    .dataframe tbody tr th {\n",
       "        vertical-align: top;\n",
       "    }\n",
       "\n",
       "    .dataframe thead th {\n",
       "        text-align: right;\n",
       "    }\n",
       "</style>\n",
       "<table border=\"1\" class=\"dataframe\">\n",
       "  <thead>\n",
       "    <tr style=\"text-align: right;\">\n",
       "      <th></th>\n",
       "      <th>id</th>\n",
       "      <th>followers</th>\n",
       "      <th>genres</th>\n",
       "      <th>name</th>\n",
       "      <th>popularity</th>\n",
       "    </tr>\n",
       "  </thead>\n",
       "  <tbody>\n",
       "    <tr>\n",
       "      <th>0</th>\n",
       "      <td>0DheY5irMjBUeLybbCUEZ2</td>\n",
       "      <td>0.0</td>\n",
       "      <td>[]</td>\n",
       "      <td>Armid &amp; Amir Zare Pashai feat. Sara Rouzbehani</td>\n",
       "      <td>0</td>\n",
       "    </tr>\n",
       "    <tr>\n",
       "      <th>1</th>\n",
       "      <td>0DlhY15l3wsrnlfGio2bjU</td>\n",
       "      <td>5.0</td>\n",
       "      <td>[]</td>\n",
       "      <td>ปูนา ภาวิณี</td>\n",
       "      <td>0</td>\n",
       "    </tr>\n",
       "    <tr>\n",
       "      <th>2</th>\n",
       "      <td>0DmRESX2JknGPQyO15yxg7</td>\n",
       "      <td>0.0</td>\n",
       "      <td>[]</td>\n",
       "      <td>Sadaa</td>\n",
       "      <td>0</td>\n",
       "    </tr>\n",
       "    <tr>\n",
       "      <th>3</th>\n",
       "      <td>0DmhnbHjm1qw6NCYPeZNgJ</td>\n",
       "      <td>0.0</td>\n",
       "      <td>[]</td>\n",
       "      <td>Tra'gruda</td>\n",
       "      <td>0</td>\n",
       "    </tr>\n",
       "    <tr>\n",
       "      <th>4</th>\n",
       "      <td>0Dn11fWM7vHQ3rinvWEl4E</td>\n",
       "      <td>2.0</td>\n",
       "      <td>[]</td>\n",
       "      <td>Ioannis Panoutsopoulos</td>\n",
       "      <td>0</td>\n",
       "    </tr>\n",
       "    <tr>\n",
       "      <th>5</th>\n",
       "      <td>0DotfDlYMGqkbzfBhcA5r6</td>\n",
       "      <td>7.0</td>\n",
       "      <td>[]</td>\n",
       "      <td>Astral Affect</td>\n",
       "      <td>0</td>\n",
       "    </tr>\n",
       "    <tr>\n",
       "      <th>6</th>\n",
       "      <td>0DqP3bOCiC48L8SM9gK4W8</td>\n",
       "      <td>1.0</td>\n",
       "      <td>[]</td>\n",
       "      <td>Yung Seed</td>\n",
       "      <td>0</td>\n",
       "    </tr>\n",
       "    <tr>\n",
       "      <th>7</th>\n",
       "      <td>0Drs3maQb99iRglyTuxizI</td>\n",
       "      <td>0.0</td>\n",
       "      <td>[]</td>\n",
       "      <td>Wi'Ma</td>\n",
       "      <td>0</td>\n",
       "    </tr>\n",
       "    <tr>\n",
       "      <th>8</th>\n",
       "      <td>0DsPeAi1gxPPnYjgpiEGSR</td>\n",
       "      <td>0.0</td>\n",
       "      <td>[]</td>\n",
       "      <td>lentboy</td>\n",
       "      <td>0</td>\n",
       "    </tr>\n",
       "    <tr>\n",
       "      <th>9</th>\n",
       "      <td>0DtvnTxgZ9K5YaPS5jdlQW</td>\n",
       "      <td>20.0</td>\n",
       "      <td>[]</td>\n",
       "      <td>addworks</td>\n",
       "      <td>0</td>\n",
       "    </tr>\n",
       "    <tr>\n",
       "      <th>10</th>\n",
       "      <td>0Du4t8UK1lBD8TnOIa3c17</td>\n",
       "      <td>1.0</td>\n",
       "      <td>[]</td>\n",
       "      <td>Harrbazzter</td>\n",
       "      <td>0</td>\n",
       "    </tr>\n",
       "    <tr>\n",
       "      <th>11</th>\n",
       "      <td>0DuJ5k2ERoAizEdgUzJGTc</td>\n",
       "      <td>0.0</td>\n",
       "      <td>[]</td>\n",
       "      <td>Helena Brunner</td>\n",
       "      <td>0</td>\n",
       "    </tr>\n",
       "    <tr>\n",
       "      <th>12</th>\n",
       "      <td>0DujX6vG6qOz2wVBCQg5Vi</td>\n",
       "      <td>0.0</td>\n",
       "      <td>[]</td>\n",
       "      <td>Deezy McDuffie</td>\n",
       "      <td>0</td>\n",
       "    </tr>\n",
       "    <tr>\n",
       "      <th>13</th>\n",
       "      <td>0DvBSYDq5ikdlKgp94Yamq</td>\n",
       "      <td>1.0</td>\n",
       "      <td>[]</td>\n",
       "      <td>Riyaz Azaimar</td>\n",
       "      <td>0</td>\n",
       "    </tr>\n",
       "    <tr>\n",
       "      <th>14</th>\n",
       "      <td>0DvvojCMIqsOT1Btiwvq1h</td>\n",
       "      <td>422.0</td>\n",
       "      <td>[]</td>\n",
       "      <td>Sidonie Radio</td>\n",
       "      <td>0</td>\n",
       "    </tr>\n",
       "    <tr>\n",
       "      <th>15</th>\n",
       "      <td>0DxcE03jyjg3wQVHUQKx8C</td>\n",
       "      <td>0.0</td>\n",
       "      <td>[]</td>\n",
       "      <td>Le Chamête</td>\n",
       "      <td>0</td>\n",
       "    </tr>\n",
       "    <tr>\n",
       "      <th>16</th>\n",
       "      <td>0DxsGcq4ILa7Ss2CmZfipk</td>\n",
       "      <td>0.0</td>\n",
       "      <td>[]</td>\n",
       "      <td>Lipin. P</td>\n",
       "      <td>0</td>\n",
       "    </tr>\n",
       "    <tr>\n",
       "      <th>17</th>\n",
       "      <td>0DzKNJPHYPMaLDxDVEuznX</td>\n",
       "      <td>4.0</td>\n",
       "      <td>[]</td>\n",
       "      <td>Breakingnews</td>\n",
       "      <td>0</td>\n",
       "    </tr>\n",
       "    <tr>\n",
       "      <th>18</th>\n",
       "      <td>0DzfuBZVzDryD5ZqKla8EW</td>\n",
       "      <td>0.0</td>\n",
       "      <td>[]</td>\n",
       "      <td>TINY x dr.KONG</td>\n",
       "      <td>0</td>\n",
       "    </tr>\n",
       "    <tr>\n",
       "      <th>19</th>\n",
       "      <td>0DzvgthIK2nmlAPE0A2Uvo</td>\n",
       "      <td>0.0</td>\n",
       "      <td>[]</td>\n",
       "      <td>Stan P</td>\n",
       "      <td>0</td>\n",
       "    </tr>\n",
       "  </tbody>\n",
       "</table>\n",
       "</div>"
      ],
      "text/plain": [
       "                        id  followers genres  \\\n",
       "0   0DheY5irMjBUeLybbCUEZ2        0.0     []   \n",
       "1   0DlhY15l3wsrnlfGio2bjU        5.0     []   \n",
       "2   0DmRESX2JknGPQyO15yxg7        0.0     []   \n",
       "3   0DmhnbHjm1qw6NCYPeZNgJ        0.0     []   \n",
       "4   0Dn11fWM7vHQ3rinvWEl4E        2.0     []   \n",
       "5   0DotfDlYMGqkbzfBhcA5r6        7.0     []   \n",
       "6   0DqP3bOCiC48L8SM9gK4W8        1.0     []   \n",
       "7   0Drs3maQb99iRglyTuxizI        0.0     []   \n",
       "8   0DsPeAi1gxPPnYjgpiEGSR        0.0     []   \n",
       "9   0DtvnTxgZ9K5YaPS5jdlQW       20.0     []   \n",
       "10  0Du4t8UK1lBD8TnOIa3c17        1.0     []   \n",
       "11  0DuJ5k2ERoAizEdgUzJGTc        0.0     []   \n",
       "12  0DujX6vG6qOz2wVBCQg5Vi        0.0     []   \n",
       "13  0DvBSYDq5ikdlKgp94Yamq        1.0     []   \n",
       "14  0DvvojCMIqsOT1Btiwvq1h      422.0     []   \n",
       "15  0DxcE03jyjg3wQVHUQKx8C        0.0     []   \n",
       "16  0DxsGcq4ILa7Ss2CmZfipk        0.0     []   \n",
       "17  0DzKNJPHYPMaLDxDVEuznX        4.0     []   \n",
       "18  0DzfuBZVzDryD5ZqKla8EW        0.0     []   \n",
       "19  0DzvgthIK2nmlAPE0A2Uvo        0.0     []   \n",
       "\n",
       "                                              name  popularity  \n",
       "0   Armid & Amir Zare Pashai feat. Sara Rouzbehani           0  \n",
       "1                                      ปูนา ภาวิณี           0  \n",
       "2                                            Sadaa           0  \n",
       "3                                        Tra'gruda           0  \n",
       "4                           Ioannis Panoutsopoulos           0  \n",
       "5                                    Astral Affect           0  \n",
       "6                                        Yung Seed           0  \n",
       "7                                            Wi'Ma           0  \n",
       "8                                          lentboy           0  \n",
       "9                                         addworks           0  \n",
       "10                                     Harrbazzter           0  \n",
       "11                                  Helena Brunner           0  \n",
       "12                                  Deezy McDuffie           0  \n",
       "13                                   Riyaz Azaimar           0  \n",
       "14                                   Sidonie Radio           0  \n",
       "15                                      Le Chamête           0  \n",
       "16                                        Lipin. P           0  \n",
       "17                                    Breakingnews           0  \n",
       "18                                  TINY x dr.KONG           0  \n",
       "19                                          Stan P           0  "
      ]
     },
     "execution_count": 8,
     "metadata": {},
     "output_type": "execute_result"
    }
   ],
   "source": [
    "df.head(20)"
   ]
  },
  {
   "cell_type": "code",
   "execution_count": 20,
   "metadata": {},
   "outputs": [
    {
     "name": "stdout",
     "output_type": "stream",
     "text": [
      "This dataset has 1104349 rows and 5 columns.\n"
     ]
    }
   ],
   "source": [
    "nRows, nCols = df.shape\n",
    "print(f'This dataset has {nRows} rows and {nCols} columns.')"
   ]
  },
  {
   "cell_type": "code",
   "execution_count": 6,
   "metadata": {},
   "outputs": [
    {
     "data": {
      "text/html": [
       "<div>\n",
       "<style scoped>\n",
       "    .dataframe tbody tr th:only-of-type {\n",
       "        vertical-align: middle;\n",
       "    }\n",
       "\n",
       "    .dataframe tbody tr th {\n",
       "        vertical-align: top;\n",
       "    }\n",
       "\n",
       "    .dataframe thead th {\n",
       "        text-align: right;\n",
       "    }\n",
       "</style>\n",
       "<table border=\"1\" class=\"dataframe\">\n",
       "  <thead>\n",
       "    <tr style=\"text-align: right;\">\n",
       "      <th></th>\n",
       "      <th>followers</th>\n",
       "      <th>popularity</th>\n",
       "    </tr>\n",
       "  </thead>\n",
       "  <tbody>\n",
       "    <tr>\n",
       "      <th>count</th>\n",
       "      <td>1.104336e+06</td>\n",
       "      <td>1.104349e+06</td>\n",
       "    </tr>\n",
       "    <tr>\n",
       "      <th>mean</th>\n",
       "      <td>1.074304e+04</td>\n",
       "      <td>9.083884e+00</td>\n",
       "    </tr>\n",
       "    <tr>\n",
       "      <th>std</th>\n",
       "      <td>2.609554e+05</td>\n",
       "      <td>1.376310e+01</td>\n",
       "    </tr>\n",
       "    <tr>\n",
       "      <th>min</th>\n",
       "      <td>0.000000e+00</td>\n",
       "      <td>0.000000e+00</td>\n",
       "    </tr>\n",
       "    <tr>\n",
       "      <th>25%</th>\n",
       "      <td>1.000000e+01</td>\n",
       "      <td>0.000000e+00</td>\n",
       "    </tr>\n",
       "    <tr>\n",
       "      <th>50%</th>\n",
       "      <td>5.900000e+01</td>\n",
       "      <td>2.000000e+00</td>\n",
       "    </tr>\n",
       "    <tr>\n",
       "      <th>75%</th>\n",
       "      <td>4.510000e+02</td>\n",
       "      <td>1.400000e+01</td>\n",
       "    </tr>\n",
       "    <tr>\n",
       "      <th>max</th>\n",
       "      <td>7.890023e+07</td>\n",
       "      <td>1.000000e+02</td>\n",
       "    </tr>\n",
       "  </tbody>\n",
       "</table>\n",
       "</div>"
      ],
      "text/plain": [
       "          followers    popularity\n",
       "count  1.104336e+06  1.104349e+06\n",
       "mean   1.074304e+04  9.083884e+00\n",
       "std    2.609554e+05  1.376310e+01\n",
       "min    0.000000e+00  0.000000e+00\n",
       "25%    1.000000e+01  0.000000e+00\n",
       "50%    5.900000e+01  2.000000e+00\n",
       "75%    4.510000e+02  1.400000e+01\n",
       "max    7.890023e+07  1.000000e+02"
      ]
     },
     "execution_count": 6,
     "metadata": {},
     "output_type": "execute_result"
    }
   ],
   "source": [
    "df.describe()"
   ]
  },
  {
   "cell_type": "code",
   "execution_count": 7,
   "metadata": {},
   "outputs": [
    {
     "name": "stdout",
     "output_type": "stream",
     "text": [
      "<class 'pandas.core.frame.DataFrame'>\n",
      "RangeIndex: 1104349 entries, 0 to 1104348\n",
      "Data columns (total 5 columns):\n",
      " #   Column      Non-Null Count    Dtype  \n",
      "---  ------      --------------    -----  \n",
      " 0   id          1104349 non-null  object \n",
      " 1   followers   1104336 non-null  float64\n",
      " 2   genres      1104349 non-null  object \n",
      " 3   name        1104349 non-null  object \n",
      " 4   popularity  1104349 non-null  int64  \n",
      "dtypes: float64(1), int64(1), object(3)\n",
      "memory usage: 42.1+ MB\n"
     ]
    }
   ],
   "source": [
    "df.info()"
   ]
  },
  {
   "cell_type": "code",
   "execution_count": 8,
   "metadata": {},
   "outputs": [
    {
     "data": {
      "text/plain": [
       "id            1104349\n",
       "followers       51979\n",
       "genres          48788\n",
       "name          1078660\n",
       "popularity         99\n",
       "dtype: int64"
      ]
     },
     "execution_count": 8,
     "metadata": {},
     "output_type": "execute_result"
    }
   ],
   "source": [
    "df.nunique()"
   ]
  },
  {
   "cell_type": "code",
   "execution_count": 16,
   "metadata": {},
   "outputs": [
    {
     "data": {
      "text/plain": [
       "id             0\n",
       "followers     13\n",
       "genres         0\n",
       "name           0\n",
       "popularity     0\n",
       "dtype: int64"
      ]
     },
     "execution_count": 16,
     "metadata": {},
     "output_type": "execute_result"
    }
   ],
   "source": [
    "#Since the number of rows that contain null values is only 13, I will drop them\n",
    "\n",
    "df.isna().sum()"
   ]
  },
  {
   "cell_type": "code",
   "execution_count": 6,
   "metadata": {},
   "outputs": [
    {
     "data": {
      "text/plain": [
       "805733"
      ]
     },
     "execution_count": 6,
     "metadata": {},
     "output_type": "execute_result"
    }
   ],
   "source": [
    "# Number of null ([]) values for the genres attribute\n",
    "\n",
    "df['genres'].eq('[]').sum()"
   ]
  },
  {
   "cell_type": "code",
   "execution_count": 15,
   "metadata": {},
   "outputs": [
    {
     "data": {
      "text/html": [
       "<div>\n",
       "<style scoped>\n",
       "    .dataframe tbody tr th:only-of-type {\n",
       "        vertical-align: middle;\n",
       "    }\n",
       "\n",
       "    .dataframe tbody tr th {\n",
       "        vertical-align: top;\n",
       "    }\n",
       "\n",
       "    .dataframe thead th {\n",
       "        text-align: right;\n",
       "    }\n",
       "</style>\n",
       "<table border=\"1\" class=\"dataframe\">\n",
       "  <thead>\n",
       "    <tr style=\"text-align: right;\">\n",
       "      <th></th>\n",
       "      <th>id</th>\n",
       "      <th>followers</th>\n",
       "      <th>genres</th>\n",
       "      <th>name</th>\n",
       "      <th>popularity</th>\n",
       "    </tr>\n",
       "  </thead>\n",
       "  <tbody>\n",
       "    <tr>\n",
       "      <th>0</th>\n",
       "      <td>0DheY5irMjBUeLybbCUEZ2</td>\n",
       "      <td>0.0</td>\n",
       "      <td>[]</td>\n",
       "      <td>Armid &amp; Amir Zare Pashai feat. Sara Rouzbehani</td>\n",
       "      <td>0</td>\n",
       "    </tr>\n",
       "    <tr>\n",
       "      <th>1</th>\n",
       "      <td>0DlhY15l3wsrnlfGio2bjU</td>\n",
       "      <td>5.0</td>\n",
       "      <td>[]</td>\n",
       "      <td>ปูนา ภาวิณี</td>\n",
       "      <td>0</td>\n",
       "    </tr>\n",
       "    <tr>\n",
       "      <th>2</th>\n",
       "      <td>0DmRESX2JknGPQyO15yxg7</td>\n",
       "      <td>0.0</td>\n",
       "      <td>[]</td>\n",
       "      <td>Sadaa</td>\n",
       "      <td>0</td>\n",
       "    </tr>\n",
       "    <tr>\n",
       "      <th>3</th>\n",
       "      <td>0DmhnbHjm1qw6NCYPeZNgJ</td>\n",
       "      <td>0.0</td>\n",
       "      <td>[]</td>\n",
       "      <td>Tra'gruda</td>\n",
       "      <td>0</td>\n",
       "    </tr>\n",
       "    <tr>\n",
       "      <th>4</th>\n",
       "      <td>0Dn11fWM7vHQ3rinvWEl4E</td>\n",
       "      <td>2.0</td>\n",
       "      <td>[]</td>\n",
       "      <td>Ioannis Panoutsopoulos</td>\n",
       "      <td>0</td>\n",
       "    </tr>\n",
       "    <tr>\n",
       "      <th>...</th>\n",
       "      <td>...</td>\n",
       "      <td>...</td>\n",
       "      <td>...</td>\n",
       "      <td>...</td>\n",
       "      <td>...</td>\n",
       "    </tr>\n",
       "    <tr>\n",
       "      <th>1104344</th>\n",
       "      <td>6rJIG42vcWAf1UBdRFlQxB</td>\n",
       "      <td>3345.0</td>\n",
       "      <td>[]</td>\n",
       "      <td>Cody Longo</td>\n",
       "      <td>8</td>\n",
       "    </tr>\n",
       "    <tr>\n",
       "      <th>1104345</th>\n",
       "      <td>1ljurfXKPlGncNdW3J8zJ8</td>\n",
       "      <td>2123.0</td>\n",
       "      <td>['deep acoustic pop']</td>\n",
       "      <td>Right the Stars</td>\n",
       "      <td>18</td>\n",
       "    </tr>\n",
       "    <tr>\n",
       "      <th>1104346</th>\n",
       "      <td>2vnT9YhKIvjVo9LnVjWmr2</td>\n",
       "      <td>26.0</td>\n",
       "      <td>[]</td>\n",
       "      <td>Jesse Giddings</td>\n",
       "      <td>0</td>\n",
       "    </tr>\n",
       "    <tr>\n",
       "      <th>1104347</th>\n",
       "      <td>3ID0E5XCvnJIYZEq043ZoB</td>\n",
       "      <td>406.0</td>\n",
       "      <td>[]</td>\n",
       "      <td>The Boy Band Project</td>\n",
       "      <td>0</td>\n",
       "    </tr>\n",
       "    <tr>\n",
       "      <th>1104348</th>\n",
       "      <td>5m0Y4WSYyai2BU752lCASy</td>\n",
       "      <td>146.0</td>\n",
       "      <td>[]</td>\n",
       "      <td>10 Reasons</td>\n",
       "      <td>1</td>\n",
       "    </tr>\n",
       "  </tbody>\n",
       "</table>\n",
       "<p>1104336 rows × 5 columns</p>\n",
       "</div>"
      ],
      "text/plain": [
       "                             id  followers                 genres  \\\n",
       "0        0DheY5irMjBUeLybbCUEZ2        0.0                     []   \n",
       "1        0DlhY15l3wsrnlfGio2bjU        5.0                     []   \n",
       "2        0DmRESX2JknGPQyO15yxg7        0.0                     []   \n",
       "3        0DmhnbHjm1qw6NCYPeZNgJ        0.0                     []   \n",
       "4        0Dn11fWM7vHQ3rinvWEl4E        2.0                     []   \n",
       "...                         ...        ...                    ...   \n",
       "1104344  6rJIG42vcWAf1UBdRFlQxB     3345.0                     []   \n",
       "1104345  1ljurfXKPlGncNdW3J8zJ8     2123.0  ['deep acoustic pop']   \n",
       "1104346  2vnT9YhKIvjVo9LnVjWmr2       26.0                     []   \n",
       "1104347  3ID0E5XCvnJIYZEq043ZoB      406.0                     []   \n",
       "1104348  5m0Y4WSYyai2BU752lCASy      146.0                     []   \n",
       "\n",
       "                                                   name  popularity  \n",
       "0        Armid & Amir Zare Pashai feat. Sara Rouzbehani           0  \n",
       "1                                           ปูนา ภาวิณี           0  \n",
       "2                                                 Sadaa           0  \n",
       "3                                             Tra'gruda           0  \n",
       "4                                Ioannis Panoutsopoulos           0  \n",
       "...                                                 ...         ...  \n",
       "1104344                                      Cody Longo           8  \n",
       "1104345                                 Right the Stars          18  \n",
       "1104346                                  Jesse Giddings           0  \n",
       "1104347                            The Boy Band Project           0  \n",
       "1104348                                      10 Reasons           1  \n",
       "\n",
       "[1104336 rows x 5 columns]"
      ]
     },
     "execution_count": 15,
     "metadata": {},
     "output_type": "execute_result"
    }
   ],
   "source": [
    "df.dropna()"
   ]
  },
  {
   "cell_type": "markdown",
   "metadata": {},
   "source": [
    "  "
   ]
  },
  {
   "cell_type": "code",
   "execution_count": 13,
   "metadata": {},
   "outputs": [
    {
     "data": {
      "text/plain": [
       "array([[<AxesSubplot:title={'center':'followers'}>,\n",
       "        <AxesSubplot:title={'center':'popularity'}>]], dtype=object)"
      ]
     },
     "execution_count": 13,
     "metadata": {},
     "output_type": "execute_result"
    },
    {
     "data": {
      "image/png": "[encoded data removed]",
      "text/plain": [
       "<Figure size 432x288 with 2 Axes>"
      ]
     },
     "metadata": {},
     "output_type": "display_data"
    }
   ],
   "source": [
    "df.hist()"
   ]
  },
  {
   "cell_type": "markdown",
   "metadata": {},
   "source": [
    "Next, I will make visualisations about the artists. <br> First I will show the top artists according to the number of followers."
   ]
  },
  {
   "cell_type": "code",
   "execution_count": 22,
   "metadata": {},
   "outputs": [
    {
     "data": {
      "text/plain": [
       "(array([ 0,  1,  2,  3,  4,  5,  6,  7,  8,  9, 10, 11, 12, 13, 14, 15, 16,\n",
       "        17, 18, 19]),\n",
       " [Text(0, 0, 'Ed Sheeran'),\n",
       "  Text(1, 0, 'Ariana Grande'),\n",
       "  Text(2, 0, 'Drake'),\n",
       "  Text(3, 0, 'Justin Bieber'),\n",
       "  Text(4, 0, 'Eminem'),\n",
       "  Text(5, 0, 'Rihanna'),\n",
       "  Text(6, 0, 'Billie Eilish'),\n",
       "  Text(7, 0, 'Taylor Swift'),\n",
       "  Text(8, 0, 'Imagine Dragons'),\n",
       "  Text(9, 0, 'Queen'),\n",
       "  Text(10, 0, 'Shawn Mendes'),\n",
       "  Text(11, 0, 'Bad Bunny'),\n",
       "  Text(12, 0, 'Post Malone'),\n",
       "  Text(13, 0, 'BTS'),\n",
       "  Text(14, 0, 'The Weeknd'),\n",
       "  Text(15, 0, 'Maroon 5'),\n",
       "  Text(16, 0, 'Marshmello'),\n",
       "  Text(17, 0, 'Bruno Mars'),\n",
       "  Text(18, 0, 'Coldplay'),\n",
       "  Text(19, 0, 'Alan Walker')])"
      ]
     },
     "execution_count": 22,
     "metadata": {},
     "output_type": "execute_result"
    },
    {
     "data": {
      "image/png": "[encoded data removed]",
      "text/plain": [
       "<Figure size 1080x576 with 1 Axes>"
      ]
     },
     "metadata": {},
     "output_type": "display_data"
    }
   ],
   "source": [
    "g_pn = df.groupby(\"name\")['followers'].sum().sort_values(ascending=False)[:20]\n",
    "sns.set(rc={'figure.figsize':(15,8)})\n",
    "axis = sns.barplot(g_pn.index, g_pn,palette='rocket')\n",
    "axis.set_title('Top Artists by number of followers')\n",
    "axis.set_ylabel('Followers')\n",
    "axis.set_xlabel('Artists')\n",
    "plt.xticks(rotation = 90)"
   ]
  },
  {
   "cell_type": "code",
   "execution_count": 23,
   "metadata": {},
   "outputs": [
    {
     "data": {
      "text/plain": [
       "(array([ 0,  1,  2,  3,  4,  5,  6,  7,  8,  9, 10, 11, 12, 13, 14, 15, 16,\n",
       "        17, 18, 19]),\n",
       " [Text(0, 0, 'Zion'),\n",
       "  Text(1, 0, 'Luna'),\n",
       "  Text(2, 0, 'Kali'),\n",
       "  Text(3, 0, 'Randy'),\n",
       "  Text(4, 0, 'Rico'),\n",
       "  Text(5, 0, 'Alex'),\n",
       "  Text(6, 0, 'Maya'),\n",
       "  Text(7, 0, 'Eve'),\n",
       "  Text(8, 0, 'AK'),\n",
       "  Text(9, 0, 'Adam'),\n",
       "  Text(10, 0, 'Sasha'),\n",
       "  Text(11, 0, 'Forró Cintura de Mola'),\n",
       "  Text(12, 0, 'Dave'),\n",
       "  Text(13, 0, 'TNT'),\n",
       "  Text(14, 0, 'Jordan'),\n",
       "  Text(15, 0, 'Nicole'),\n",
       "  Text(16, 0, 'Marvin'),\n",
       "  Text(17, 0, 'Miyagi'),\n",
       "  Text(18, 0, 'Emilia'),\n",
       "  Text(19, 0, 'DNA')])"
      ]
     },
     "execution_count": 23,
     "metadata": {},
     "output_type": "execute_result"
    },
    {
     "data": {
      "image/png": "[encoded data removed]",
      "text/plain": [
       "<Figure size 1080x576 with 1 Axes>"
      ]
     },
     "metadata": {},
     "output_type": "display_data"
    }
   ],
   "source": [
    "g_pn = df.groupby(\"name\")['popularity'].sum().sort_values(ascending=False)[:20]\n",
    "sns.set(rc={'figure.figsize':(15,8)})\n",
    "axis = sns.barplot(g_pn.index, g_pn,palette='summer')\n",
    "axis.set_title('Top Artists by popularity')\n",
    "axis.set_ylabel('Popularity')\n",
    "axis.set_xlabel('Artists')\n",
    "plt.xticks(rotation = 90)"
   ]
  }
 ],
 "metadata": {
  "kernelspec": {
   "display_name": "Python 3",
   "language": "python",
   "name": "python3"
  },
  "language_info": {
   "codemirror_mode": {
    "name": "ipython",
    "version": 3
   },
   "file_extension": ".py",
   "mimetype": "text/x-python",
   "name": "python",
   "nbconvert_exporter": "python",
   "pygments_lexer": "ipython3",
   "version": "3.8.5"
  }
 },
 "nbformat": 4,
 "nbformat_minor": 4
}
